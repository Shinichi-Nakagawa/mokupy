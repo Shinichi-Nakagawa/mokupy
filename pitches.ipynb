{
 "cells": [
  {
   "cell_type": "code",
   "execution_count": 1,
   "metadata": {
    "collapsed": false,
    "run_control": {
     "frozen": false,
     "read_only": false
    }
   },
   "outputs": [],
   "source": [
    "import time\n",
    "import random\n",
    "import numpy as np\n",
    "import pandas as pd\n",
    "\n",
    "from bokeh.io import push_notebook, show, output_notebook\n",
    "from bokeh.plotting import figure\n",
    "\n",
    "from IPython.display import display\n",
    "import ipywidgets as widgets"
   ]
  },
  {
   "cell_type": "code",
   "execution_count": 2,
   "metadata": {
    "collapsed": false,
    "run_control": {
     "frozen": false,
     "read_only": false
    }
   },
   "outputs": [],
   "source": [
    "# サンプルデータ(ダミー)\n",
    "pitches_colors = {\n",
    "    'Four-seam Fastball': 'Black',\n",
    "    'Two-seam Fastball': 'DimGray',\n",
    "    'Cutter': 'CadetBlue',\n",
    "    'Splitter': 'Coral',\n",
    "    'Forkball': 'Crimson',\n",
    "    'Curveball': 'Gold',\n",
    "    'Slider': 'Indigo',\n",
    "    'Slurve': 'LawnGreen',\n",
    "    'Screwball': 'Orange',\n",
    "    'Changeup': 'Orchid',\n",
    "    'Palmball': 'SaddleBrown',\n",
    "    'Circle Changeup': 'PaleVioletRed'\n",
    "}\n",
    "\n",
    "df = pd.DataFrame(np.random.randint(0, 100, (100, 2)))\n",
    "df.columns = ['x', 'y']\n",
    "df['speed'] = np.random.randint(80, 160, 100)\n",
    "df['pitches'] = [random.choice(list(pitches_colors.keys())) for x in df.index]"
   ]
  },
  {
   "cell_type": "code",
   "execution_count": 3,
   "metadata": {
    "collapsed": false
   },
   "outputs": [
    {
     "data": {
      "text/html": [
       "\n",
       "    <div class=\"bk-root\">\n",
       "        <a href=\"http://bokeh.pydata.org\" target=\"_blank\" class=\"bk-logo bk-logo-small bk-logo-notebook\"></a>\n",
       "        <span id=\"3af4e2e8-48d9-455b-8c78-73c2a9d41553\">Loading BokehJS ...</span>\n",
       "    </div>"
      ]
     },
     "metadata": {},
     "output_type": "display_data"
    },
    {
     "data": {
      "application/javascript": [
       "\n",
       "(function(global) {\n",
       "  function now() {\n",
       "    return new Date();\n",
       "  }\n",
       "\n",
       "  var force = \"1\";\n",
       "\n",
       "  if (typeof (window._bokeh_onload_callbacks) === \"undefined\" || force !== \"\") {\n",
       "    window._bokeh_onload_callbacks = [];\n",
       "    window._bokeh_is_loading = undefined;\n",
       "  }\n",
       "\n",
       "\n",
       "  \n",
       "  if (typeof (window._bokeh_timeout) === \"undefined\" || force !== \"\") {\n",
       "    window._bokeh_timeout = Date.now() + 5000;\n",
       "    window._bokeh_failed_load = false;\n",
       "  }\n",
       "\n",
       "  var NB_LOAD_WARNING = {'data': {'text/html':\n",
       "     \"<div style='background-color: #fdd'>\\n\"+\n",
       "     \"<p>\\n\"+\n",
       "     \"BokehJS does not appear to have successfully loaded. If loading BokehJS from CDN, this \\n\"+\n",
       "     \"may be due to a slow or bad network connection. Possible fixes:\\n\"+\n",
       "     \"</p>\\n\"+\n",
       "     \"<ul>\\n\"+\n",
       "     \"<li>re-rerun `output_notebook()` to attempt to load from CDN again, or</li>\\n\"+\n",
       "     \"<li>use INLINE resources instead, as so:</li>\\n\"+\n",
       "     \"</ul>\\n\"+\n",
       "     \"<code>\\n\"+\n",
       "     \"from bokeh.resources import INLINE\\n\"+\n",
       "     \"output_notebook(resources=INLINE)\\n\"+\n",
       "     \"</code>\\n\"+\n",
       "     \"</div>\"}};\n",
       "\n",
       "  function display_loaded() {\n",
       "    if (window.Bokeh !== undefined) {\n",
       "      Bokeh.$(\"#3af4e2e8-48d9-455b-8c78-73c2a9d41553\").text(\"BokehJS successfully loaded.\");\n",
       "    } else if (Date.now() < window._bokeh_timeout) {\n",
       "      setTimeout(display_loaded, 100)\n",
       "    }\n",
       "  }\n",
       "\n",
       "  function run_callbacks() {\n",
       "    window._bokeh_onload_callbacks.forEach(function(callback) { callback() });\n",
       "    delete window._bokeh_onload_callbacks\n",
       "    console.info(\"Bokeh: all callbacks have finished\");\n",
       "  }\n",
       "\n",
       "  function load_libs(js_urls, callback) {\n",
       "    window._bokeh_onload_callbacks.push(callback);\n",
       "    if (window._bokeh_is_loading > 0) {\n",
       "      console.log(\"Bokeh: BokehJS is being loaded, scheduling callback at\", now());\n",
       "      return null;\n",
       "    }\n",
       "    if (js_urls == null || js_urls.length === 0) {\n",
       "      run_callbacks();\n",
       "      return null;\n",
       "    }\n",
       "    console.log(\"Bokeh: BokehJS not loaded, scheduling load and callback at\", now());\n",
       "    window._bokeh_is_loading = js_urls.length;\n",
       "    for (var i = 0; i < js_urls.length; i++) {\n",
       "      var url = js_urls[i];\n",
       "      var s = document.createElement('script');\n",
       "      s.src = url;\n",
       "      s.async = false;\n",
       "      s.onreadystatechange = s.onload = function() {\n",
       "        window._bokeh_is_loading--;\n",
       "        if (window._bokeh_is_loading === 0) {\n",
       "          console.log(\"Bokeh: all BokehJS libraries loaded\");\n",
       "          run_callbacks()\n",
       "        }\n",
       "      };\n",
       "      s.onerror = function() {\n",
       "        console.warn(\"failed to load library \" + url);\n",
       "      };\n",
       "      console.log(\"Bokeh: injecting script tag for BokehJS library: \", url);\n",
       "      document.getElementsByTagName(\"head\")[0].appendChild(s);\n",
       "    }\n",
       "  };var element = document.getElementById(\"3af4e2e8-48d9-455b-8c78-73c2a9d41553\");\n",
       "  if (element == null) {\n",
       "    console.log(\"Bokeh: ERROR: autoload.js configured with elementid '3af4e2e8-48d9-455b-8c78-73c2a9d41553' but no matching script tag was found. \")\n",
       "    return false;\n",
       "  }\n",
       "\n",
       "  var js_urls = ['https://cdn.pydata.org/bokeh/release/bokeh-0.12.2.min.js', 'https://cdn.pydata.org/bokeh/release/bokeh-widgets-0.12.2.min.js', 'https://cdn.pydata.org/bokeh/release/bokeh-compiler-0.12.2.min.js'];\n",
       "\n",
       "  var inline_js = [\n",
       "    function(Bokeh) {\n",
       "      Bokeh.set_log_level(\"info\");\n",
       "    },\n",
       "    \n",
       "    function(Bokeh) {\n",
       "      \n",
       "      Bokeh.$(\"#3af4e2e8-48d9-455b-8c78-73c2a9d41553\").text(\"BokehJS is loading...\");\n",
       "    },\n",
       "    function(Bokeh) {\n",
       "      console.log(\"Bokeh: injecting CSS: https://cdn.pydata.org/bokeh/release/bokeh-0.12.2.min.css\");\n",
       "      Bokeh.embed.inject_css(\"https://cdn.pydata.org/bokeh/release/bokeh-0.12.2.min.css\");\n",
       "      console.log(\"Bokeh: injecting CSS: https://cdn.pydata.org/bokeh/release/bokeh-widgets-0.12.2.min.css\");\n",
       "      Bokeh.embed.inject_css(\"https://cdn.pydata.org/bokeh/release/bokeh-widgets-0.12.2.min.css\");\n",
       "    }\n",
       "  ];\n",
       "\n",
       "  function run_inline_js() {\n",
       "    \n",
       "    if ((window.Bokeh !== undefined) || (force === \"1\")) {\n",
       "      for (var i = 0; i < inline_js.length; i++) {\n",
       "        inline_js[i](window.Bokeh);\n",
       "      }if (force === \"1\") {\n",
       "        display_loaded();\n",
       "      }} else if (Date.now() < window._bokeh_timeout) {\n",
       "      setTimeout(run_inline_js, 100);\n",
       "    } else if (!window._bokeh_failed_load) {\n",
       "      console.log(\"Bokeh: BokehJS failed to load within specified timeout.\");\n",
       "      window._bokeh_failed_load = true;\n",
       "    } else if (!force) {\n",
       "      var cell = $(\"#3af4e2e8-48d9-455b-8c78-73c2a9d41553\").parents('.cell').data().cell;\n",
       "      cell.output_area.append_execute_result(NB_LOAD_WARNING)\n",
       "    }\n",
       "\n",
       "  }\n",
       "\n",
       "  if (window._bokeh_is_loading === 0) {\n",
       "    console.log(\"Bokeh: BokehJS loaded, going straight to plotting\");\n",
       "    run_inline_js();\n",
       "  } else {\n",
       "    load_libs(js_urls, function() {\n",
       "      console.log(\"Bokeh: BokehJS plotting callback run at\", now());\n",
       "      run_inline_js();\n",
       "    });\n",
       "  }\n",
       "}(this));"
      ]
     },
     "metadata": {},
     "output_type": "display_data"
    }
   ],
   "source": [
    "# %matplotlib inline みたいな処理\n",
    "output_notebook()\n",
    "\n",
    "# グラフの初期化\n",
    "opts = dict(plot_width=250, plot_height=250, min_border=0)\n",
    "xy_range = df['x'].min(), df['x'].max()\n",
    "p = figure(**opts, x_range=(xy_range), y_range=(xy_range))\n",
    "p.line([20, 20, 80, 80, 20],\n",
    "       [20, 80, 80, 20, 20],\n",
    "       line_width=4, color=\"firebrick\")\n",
    "\n",
    "# 直近\n",
    "size0 = df.loc[0, 'speed'] / 5\n",
    "r = p.circle([df.loc[0, 'x']], [df.loc[0, 'y']],\n",
    "             size=size0, line_color=None)\n",
    "# 一投前\n",
    "r1 = p.circle_x([df.loc[0, 'x']], [df.loc[0, 'y']],\n",
    "                size=size0, line_color='Black')\n",
    "# 二投前\n",
    "r2 = p.circle_cross([df.loc[0, 'x']], [df.loc[0, 'y']],\n",
    "                    size=size0, line_color='Black')"
   ]
  },
  {
   "cell_type": "code",
   "execution_count": 4,
   "metadata": {
    "collapsed": false,
    "run_control": {
     "frozen": false,
     "read_only": false
    }
   },
   "outputs": [],
   "source": [
    "def draw(n):\n",
    "    def plot_pitches(i, renderer):\n",
    "        x, y, speed, pitches = df.loc[i]\n",
    "        renderer.data_source.data['x'] = [x]\n",
    "        renderer.data_source.data['y'] = [y]\n",
    "        renderer.glyph.size = speed / 5\n",
    "        renderer.glyph.fill_color = pitches_colors[pitches]\n",
    "\n",
    "    x, y, speed, pitches = df.loc[n]\n",
    "    plot_pitches(n, r)\n",
    "    p.title.text = '{}: {}km/h'.format(pitches, speed)\n",
    "\n",
    "    if n > 1:\n",
    "        plot_pitches(n - 2, r2)\n",
    "\n",
    "    if n:\n",
    "        plot_pitches(n - 1, r1)\n",
    "\n",
    "    # handle=t がポイント、tで描画したセルをハンドリング\n",
    "    push_notebook(handle=t)"
   ]
  },
  {
   "cell_type": "code",
   "execution_count": 5,
   "metadata": {
    "collapsed": false,
    "run_control": {
     "frozen": false,
     "read_only": false
    }
   },
   "outputs": [],
   "source": [
    "# ipywidgetsのUI\n",
    "slider = widgets.SelectionSlider(\n",
    "    options=list(df.index.map(str)),\n",
    "    value='0',\n",
    "    description='num',\n",
    "    disabled=False,\n",
    "    continuous_update=False,\n",
    "    orientation='horizontal',\n",
    "    readout=True, )\n",
    "\n",
    "\n",
    "def on_value_change(change):\n",
    "    n = int(change['new'])\n",
    "    draw(n)\n",
    "\n",
    "\n",
    "slider.observe(on_value_change, names='value')"
   ]
  },
  {
   "cell_type": "code",
   "execution_count": 6,
   "metadata": {
    "collapsed": false,
    "run_control": {
     "frozen": false,
     "read_only": false
    }
   },
   "outputs": [
    {
     "data": {
      "text/html": [
       "\n",
       "\n",
       "    <div class=\"bk-root\">\n",
       "        <div class=\"plotdiv\" id=\"efa7eaf1-fae5-4942-8669-8901d8aea37c\"></div>\n",
       "    </div>\n",
       "<script type=\"text/javascript\">\n",
       "  \n",
       "  (function(global) {\n",
       "    function now() {\n",
       "      return new Date();\n",
       "    }\n",
       "  \n",
       "    var force = \"\";\n",
       "  \n",
       "    if (typeof (window._bokeh_onload_callbacks) === \"undefined\" || force !== \"\") {\n",
       "      window._bokeh_onload_callbacks = [];\n",
       "      window._bokeh_is_loading = undefined;\n",
       "    }\n",
       "  \n",
       "  \n",
       "    \n",
       "    if (typeof (window._bokeh_timeout) === \"undefined\" || force !== \"\") {\n",
       "      window._bokeh_timeout = Date.now() + 0;\n",
       "      window._bokeh_failed_load = false;\n",
       "    }\n",
       "  \n",
       "    var NB_LOAD_WARNING = {'data': {'text/html':\n",
       "       \"<div style='background-color: #fdd'>\\n\"+\n",
       "       \"<p>\\n\"+\n",
       "       \"BokehJS does not appear to have successfully loaded. If loading BokehJS from CDN, this \\n\"+\n",
       "       \"may be due to a slow or bad network connection. Possible fixes:\\n\"+\n",
       "       \"</p>\\n\"+\n",
       "       \"<ul>\\n\"+\n",
       "       \"<li>re-rerun `output_notebook()` to attempt to load from CDN again, or</li>\\n\"+\n",
       "       \"<li>use INLINE resources instead, as so:</li>\\n\"+\n",
       "       \"</ul>\\n\"+\n",
       "       \"<code>\\n\"+\n",
       "       \"from bokeh.resources import INLINE\\n\"+\n",
       "       \"output_notebook(resources=INLINE)\\n\"+\n",
       "       \"</code>\\n\"+\n",
       "       \"</div>\"}};\n",
       "  \n",
       "    function display_loaded() {\n",
       "      if (window.Bokeh !== undefined) {\n",
       "        Bokeh.$(\"#efa7eaf1-fae5-4942-8669-8901d8aea37c\").text(\"BokehJS successfully loaded.\");\n",
       "      } else if (Date.now() < window._bokeh_timeout) {\n",
       "        setTimeout(display_loaded, 100)\n",
       "      }\n",
       "    }if ((window.Jupyter !== undefined) && Jupyter.notebook.kernel) {\n",
       "      comm_manager = Jupyter.notebook.kernel.comm_manager\n",
       "      comm_manager.register_target(\"7c2d1840-99ba-47b9-a172-949cbd75211a\", function () {});\n",
       "    }\n",
       "  \n",
       "    function run_callbacks() {\n",
       "      window._bokeh_onload_callbacks.forEach(function(callback) { callback() });\n",
       "      delete window._bokeh_onload_callbacks\n",
       "      console.info(\"Bokeh: all callbacks have finished\");\n",
       "    }\n",
       "  \n",
       "    function load_libs(js_urls, callback) {\n",
       "      window._bokeh_onload_callbacks.push(callback);\n",
       "      if (window._bokeh_is_loading > 0) {\n",
       "        console.log(\"Bokeh: BokehJS is being loaded, scheduling callback at\", now());\n",
       "        return null;\n",
       "      }\n",
       "      if (js_urls == null || js_urls.length === 0) {\n",
       "        run_callbacks();\n",
       "        return null;\n",
       "      }\n",
       "      console.log(\"Bokeh: BokehJS not loaded, scheduling load and callback at\", now());\n",
       "      window._bokeh_is_loading = js_urls.length;\n",
       "      for (var i = 0; i < js_urls.length; i++) {\n",
       "        var url = js_urls[i];\n",
       "        var s = document.createElement('script');\n",
       "        s.src = url;\n",
       "        s.async = false;\n",
       "        s.onreadystatechange = s.onload = function() {\n",
       "          window._bokeh_is_loading--;\n",
       "          if (window._bokeh_is_loading === 0) {\n",
       "            console.log(\"Bokeh: all BokehJS libraries loaded\");\n",
       "            run_callbacks()\n",
       "          }\n",
       "        };\n",
       "        s.onerror = function() {\n",
       "          console.warn(\"failed to load library \" + url);\n",
       "        };\n",
       "        console.log(\"Bokeh: injecting script tag for BokehJS library: \", url);\n",
       "        document.getElementsByTagName(\"head\")[0].appendChild(s);\n",
       "      }\n",
       "    };var element = document.getElementById(\"efa7eaf1-fae5-4942-8669-8901d8aea37c\");\n",
       "    if (element == null) {\n",
       "      console.log(\"Bokeh: ERROR: autoload.js configured with elementid 'efa7eaf1-fae5-4942-8669-8901d8aea37c' but no matching script tag was found. \")\n",
       "      return false;\n",
       "    }\n",
       "  \n",
       "    var js_urls = [];\n",
       "  \n",
       "    var inline_js = [\n",
       "      function(Bokeh) {\n",
       "        Bokeh.$(function() {\n",
       "            var docs_json = {\"5a2ed998-bed4-4d94-aaeb-d3b48f31cad6\":{\"roots\":{\"references\":[{\"attributes\":{\"data_source\":{\"id\":\"b7f1ff48-1e09-4ce2-bb94-7ec048acee76\",\"type\":\"ColumnDataSource\"},\"glyph\":{\"id\":\"7d504204-41ab-4443-987a-3b172cad4cc0\",\"type\":\"CircleCross\"},\"hover_glyph\":null,\"nonselection_glyph\":{\"id\":\"ede4186f-a7cd-4100-8523-bd2fc2874319\",\"type\":\"CircleCross\"},\"selection_glyph\":null},\"id\":\"ebcf9ef0-0792-4c90-886a-4d766e0177a2\",\"type\":\"GlyphRenderer\"},{\"attributes\":{},\"id\":\"d3ad33c5-20ab-4a62-b2d6-cd5060e59772\",\"type\":\"BasicTickFormatter\"},{\"attributes\":{\"plot\":{\"id\":\"2a3eebad-2b60-44df-bab6-379f1c654791\",\"subtype\":\"Figure\",\"type\":\"Plot\"}},\"id\":\"7583a9c8-5a0c-468f-a699-054799ba1ff8\",\"type\":\"PanTool\"},{\"attributes\":{\"fill_color\":{\"value\":\"#1f77b4\"},\"line_color\":{\"value\":\"Black\"},\"size\":{\"units\":\"screen\",\"value\":27.6},\"x\":{\"field\":\"x\"},\"y\":{\"field\":\"y\"}},\"id\":\"4248bcc3-a4fa-4cb6-bf35-ab2862dec2a0\",\"type\":\"CircleX\"},{\"attributes\":{\"formatter\":{\"id\":\"3cc270a4-3f9d-41b0-824b-91e548dcda0b\",\"type\":\"BasicTickFormatter\"},\"plot\":{\"id\":\"2a3eebad-2b60-44df-bab6-379f1c654791\",\"subtype\":\"Figure\",\"type\":\"Plot\"},\"ticker\":{\"id\":\"594b5010-22a6-41bc-aef5-4ec51a2c0525\",\"type\":\"BasicTicker\"}},\"id\":\"c071541b-6176-470b-a490-bd1e62247427\",\"type\":\"LinearAxis\"},{\"attributes\":{\"fill_color\":{\"value\":\"#1f77b4\"},\"line_color\":{\"value\":\"Black\"},\"size\":{\"units\":\"screen\",\"value\":27.6},\"x\":{\"field\":\"x\"},\"y\":{\"field\":\"y\"}},\"id\":\"7d504204-41ab-4443-987a-3b172cad4cc0\",\"type\":\"CircleCross\"},{\"attributes\":{\"plot\":{\"id\":\"2a3eebad-2b60-44df-bab6-379f1c654791\",\"subtype\":\"Figure\",\"type\":\"Plot\"}},\"id\":\"96b75b8b-55b6-4f17-833d-a15470db53c5\",\"type\":\"ResetTool\"},{\"attributes\":{\"data_source\":{\"id\":\"7f41cb76-ae1c-4413-8ae4-dbafb6120357\",\"type\":\"ColumnDataSource\"},\"glyph\":{\"id\":\"6d45df76-22a6-4caa-9cd3-e36956295f64\",\"type\":\"Circle\"},\"hover_glyph\":null,\"nonselection_glyph\":{\"id\":\"b23f61f2-8d83-4dd6-86bd-477fc6ce777b\",\"type\":\"Circle\"},\"selection_glyph\":null},\"id\":\"6e84d87f-4357-4009-b048-6a2c814c1247\",\"type\":\"GlyphRenderer\"},{\"attributes\":{\"fill_alpha\":{\"value\":0.1},\"fill_color\":{\"value\":\"#1f77b4\"},\"line_alpha\":{\"value\":0.1},\"line_color\":{\"value\":\"#1f77b4\"},\"size\":{\"units\":\"screen\",\"value\":27.6},\"x\":{\"field\":\"x\"},\"y\":{\"field\":\"y\"}},\"id\":\"b23f61f2-8d83-4dd6-86bd-477fc6ce777b\",\"type\":\"Circle\"},{\"attributes\":{\"line_alpha\":{\"value\":0.1},\"line_color\":{\"value\":\"#1f77b4\"},\"line_width\":{\"value\":4},\"x\":{\"field\":\"x\"},\"y\":{\"field\":\"y\"}},\"id\":\"a4e9d5a7-2c8c-41dc-ac44-26d38fd8e02b\",\"type\":\"Line\"},{\"attributes\":{},\"id\":\"dc573e2e-90de-4860-bc47-bd74a5eff83f\",\"type\":\"ToolEvents\"},{\"attributes\":{\"active_drag\":\"auto\",\"active_scroll\":\"auto\",\"active_tap\":\"auto\",\"tools\":[{\"id\":\"7583a9c8-5a0c-468f-a699-054799ba1ff8\",\"type\":\"PanTool\"},{\"id\":\"32a6f800-e78e-4197-a098-49260ab5295c\",\"type\":\"WheelZoomTool\"},{\"id\":\"9505ef2e-ff25-4151-bd44-275efb9b9a8d\",\"type\":\"BoxZoomTool\"},{\"id\":\"6e69c032-e6fa-4177-a062-20825f46f36f\",\"type\":\"SaveTool\"},{\"id\":\"96b75b8b-55b6-4f17-833d-a15470db53c5\",\"type\":\"ResetTool\"},{\"id\":\"2b74f13c-ff27-4636-988d-932886eebeef\",\"type\":\"HelpTool\"}]},\"id\":\"153e51fb-5716-42dd-9b16-8ebb884c58b3\",\"type\":\"Toolbar\"},{\"attributes\":{\"fill_color\":{\"value\":\"#1f77b4\"},\"line_color\":{\"value\":null},\"size\":{\"units\":\"screen\",\"value\":27.6},\"x\":{\"field\":\"x\"},\"y\":{\"field\":\"y\"}},\"id\":\"6d45df76-22a6-4caa-9cd3-e36956295f64\",\"type\":\"Circle\"},{\"attributes\":{\"line_color\":{\"value\":\"firebrick\"},\"line_width\":{\"value\":4},\"x\":{\"field\":\"x\"},\"y\":{\"field\":\"y\"}},\"id\":\"c80f2ed8-f5f2-4251-bc21-5e5c6af8019a\",\"type\":\"Line\"},{\"attributes\":{\"callback\":null,\"column_names\":[\"y\",\"x\"],\"data\":{\"x\":[7],\"y\":[59]}},\"id\":\"7f41cb76-ae1c-4413-8ae4-dbafb6120357\",\"type\":\"ColumnDataSource\"},{\"attributes\":{\"callback\":null,\"end\":99},\"id\":\"8bd60e26-5e06-4107-b963-75e07ed82f92\",\"type\":\"Range1d\"},{\"attributes\":{\"fill_alpha\":{\"value\":0.1},\"fill_color\":{\"value\":\"#1f77b4\"},\"line_alpha\":{\"value\":0.1},\"line_color\":{\"value\":\"#1f77b4\"},\"size\":{\"units\":\"screen\",\"value\":27.6},\"x\":{\"field\":\"x\"},\"y\":{\"field\":\"y\"}},\"id\":\"c8e17e8d-6388-4f64-9900-b0e2d82c3c81\",\"type\":\"CircleX\"},{\"attributes\":{\"data_source\":{\"id\":\"dd395552-f396-4642-af33-0d5bf19c4a34\",\"type\":\"ColumnDataSource\"},\"glyph\":{\"id\":\"c80f2ed8-f5f2-4251-bc21-5e5c6af8019a\",\"type\":\"Line\"},\"hover_glyph\":null,\"nonselection_glyph\":{\"id\":\"a4e9d5a7-2c8c-41dc-ac44-26d38fd8e02b\",\"type\":\"Line\"},\"selection_glyph\":null},\"id\":\"10e9338c-e345-47eb-a9ca-32b3640c9ae2\",\"type\":\"GlyphRenderer\"},{\"attributes\":{\"plot\":{\"id\":\"2a3eebad-2b60-44df-bab6-379f1c654791\",\"subtype\":\"Figure\",\"type\":\"Plot\"}},\"id\":\"32a6f800-e78e-4197-a098-49260ab5295c\",\"type\":\"WheelZoomTool\"},{\"attributes\":{\"below\":[{\"id\":\"c071541b-6176-470b-a490-bd1e62247427\",\"type\":\"LinearAxis\"}],\"left\":[{\"id\":\"6a9ece92-5520-4572-9196-ce2f3fa5260a\",\"type\":\"LinearAxis\"}],\"min_border\":0,\"plot_height\":250,\"plot_width\":250,\"renderers\":[{\"id\":\"c071541b-6176-470b-a490-bd1e62247427\",\"type\":\"LinearAxis\"},{\"id\":\"eec65eeb-f696-43c1-8bba-49969345fe27\",\"type\":\"Grid\"},{\"id\":\"6a9ece92-5520-4572-9196-ce2f3fa5260a\",\"type\":\"LinearAxis\"},{\"id\":\"66df6399-1b80-484c-9bb5-4092f2dec436\",\"type\":\"Grid\"},{\"id\":\"a1419a5d-e48c-4703-b7f5-54d20e13213e\",\"type\":\"BoxAnnotation\"},{\"id\":\"10e9338c-e345-47eb-a9ca-32b3640c9ae2\",\"type\":\"GlyphRenderer\"},{\"id\":\"6e84d87f-4357-4009-b048-6a2c814c1247\",\"type\":\"GlyphRenderer\"},{\"id\":\"c2d87230-2fbf-459d-85b0-fbe360e6c988\",\"type\":\"GlyphRenderer\"},{\"id\":\"ebcf9ef0-0792-4c90-886a-4d766e0177a2\",\"type\":\"GlyphRenderer\"}],\"title\":{\"id\":\"eb3fe54c-312c-471b-b592-160ac091a57c\",\"type\":\"Title\"},\"tool_events\":{\"id\":\"dc573e2e-90de-4860-bc47-bd74a5eff83f\",\"type\":\"ToolEvents\"},\"toolbar\":{\"id\":\"153e51fb-5716-42dd-9b16-8ebb884c58b3\",\"type\":\"Toolbar\"},\"x_range\":{\"id\":\"effeb821-ef18-496a-a867-4097893621ba\",\"type\":\"Range1d\"},\"y_range\":{\"id\":\"8bd60e26-5e06-4107-b963-75e07ed82f92\",\"type\":\"Range1d\"}},\"id\":\"2a3eebad-2b60-44df-bab6-379f1c654791\",\"subtype\":\"Figure\",\"type\":\"Plot\"},{\"attributes\":{\"fill_alpha\":{\"value\":0.1},\"fill_color\":{\"value\":\"#1f77b4\"},\"line_alpha\":{\"value\":0.1},\"line_color\":{\"value\":\"#1f77b4\"},\"size\":{\"units\":\"screen\",\"value\":27.6},\"x\":{\"field\":\"x\"},\"y\":{\"field\":\"y\"}},\"id\":\"ede4186f-a7cd-4100-8523-bd2fc2874319\",\"type\":\"CircleCross\"},{\"attributes\":{\"callback\":null,\"column_names\":[\"x\",\"y\"],\"data\":{\"x\":[20,20,80,80,20],\"y\":[20,80,80,20,20]}},\"id\":\"dd395552-f396-4642-af33-0d5bf19c4a34\",\"type\":\"ColumnDataSource\"},{\"attributes\":{\"callback\":null,\"column_names\":[\"y\",\"x\"],\"data\":{\"x\":[7],\"y\":[59]}},\"id\":\"d7be0606-bef9-4f50-a450-ed7f3a45db10\",\"type\":\"ColumnDataSource\"},{\"attributes\":{},\"id\":\"3cc270a4-3f9d-41b0-824b-91e548dcda0b\",\"type\":\"BasicTickFormatter\"},{\"attributes\":{\"dimension\":1,\"plot\":{\"id\":\"2a3eebad-2b60-44df-bab6-379f1c654791\",\"subtype\":\"Figure\",\"type\":\"Plot\"},\"ticker\":{\"id\":\"a037322d-a1e5-4cf5-ae48-1807fc60e91b\",\"type\":\"BasicTicker\"}},\"id\":\"66df6399-1b80-484c-9bb5-4092f2dec436\",\"type\":\"Grid\"},{\"attributes\":{\"plot\":null,\"text\":null},\"id\":\"eb3fe54c-312c-471b-b592-160ac091a57c\",\"type\":\"Title\"},{\"attributes\":{\"bottom_units\":\"screen\",\"fill_alpha\":{\"value\":0.5},\"fill_color\":{\"value\":\"lightgrey\"},\"left_units\":\"screen\",\"level\":\"overlay\",\"line_alpha\":{\"value\":1.0},\"line_color\":{\"value\":\"black\"},\"line_dash\":[4,4],\"line_width\":{\"value\":2},\"plot\":null,\"render_mode\":\"css\",\"right_units\":\"screen\",\"top_units\":\"screen\"},\"id\":\"a1419a5d-e48c-4703-b7f5-54d20e13213e\",\"type\":\"BoxAnnotation\"},{\"attributes\":{},\"id\":\"594b5010-22a6-41bc-aef5-4ec51a2c0525\",\"type\":\"BasicTicker\"},{\"attributes\":{\"formatter\":{\"id\":\"d3ad33c5-20ab-4a62-b2d6-cd5060e59772\",\"type\":\"BasicTickFormatter\"},\"plot\":{\"id\":\"2a3eebad-2b60-44df-bab6-379f1c654791\",\"subtype\":\"Figure\",\"type\":\"Plot\"},\"ticker\":{\"id\":\"a037322d-a1e5-4cf5-ae48-1807fc60e91b\",\"type\":\"BasicTicker\"}},\"id\":\"6a9ece92-5520-4572-9196-ce2f3fa5260a\",\"type\":\"LinearAxis\"},{\"attributes\":{\"callback\":null,\"end\":99},\"id\":\"effeb821-ef18-496a-a867-4097893621ba\",\"type\":\"Range1d\"},{\"attributes\":{\"plot\":{\"id\":\"2a3eebad-2b60-44df-bab6-379f1c654791\",\"subtype\":\"Figure\",\"type\":\"Plot\"},\"ticker\":{\"id\":\"594b5010-22a6-41bc-aef5-4ec51a2c0525\",\"type\":\"BasicTicker\"}},\"id\":\"eec65eeb-f696-43c1-8bba-49969345fe27\",\"type\":\"Grid\"},{\"attributes\":{\"plot\":{\"id\":\"2a3eebad-2b60-44df-bab6-379f1c654791\",\"subtype\":\"Figure\",\"type\":\"Plot\"}},\"id\":\"6e69c032-e6fa-4177-a062-20825f46f36f\",\"type\":\"SaveTool\"},{\"attributes\":{\"callback\":null,\"column_names\":[\"y\",\"x\"],\"data\":{\"x\":[7],\"y\":[59]}},\"id\":\"b7f1ff48-1e09-4ce2-bb94-7ec048acee76\",\"type\":\"ColumnDataSource\"},{\"attributes\":{\"data_source\":{\"id\":\"d7be0606-bef9-4f50-a450-ed7f3a45db10\",\"type\":\"ColumnDataSource\"},\"glyph\":{\"id\":\"4248bcc3-a4fa-4cb6-bf35-ab2862dec2a0\",\"type\":\"CircleX\"},\"hover_glyph\":null,\"nonselection_glyph\":{\"id\":\"c8e17e8d-6388-4f64-9900-b0e2d82c3c81\",\"type\":\"CircleX\"},\"selection_glyph\":null},\"id\":\"c2d87230-2fbf-459d-85b0-fbe360e6c988\",\"type\":\"GlyphRenderer\"},{\"attributes\":{\"plot\":{\"id\":\"2a3eebad-2b60-44df-bab6-379f1c654791\",\"subtype\":\"Figure\",\"type\":\"Plot\"}},\"id\":\"2b74f13c-ff27-4636-988d-932886eebeef\",\"type\":\"HelpTool\"},{\"attributes\":{},\"id\":\"a037322d-a1e5-4cf5-ae48-1807fc60e91b\",\"type\":\"BasicTicker\"},{\"attributes\":{\"overlay\":{\"id\":\"a1419a5d-e48c-4703-b7f5-54d20e13213e\",\"type\":\"BoxAnnotation\"},\"plot\":{\"id\":\"2a3eebad-2b60-44df-bab6-379f1c654791\",\"subtype\":\"Figure\",\"type\":\"Plot\"}},\"id\":\"9505ef2e-ff25-4151-bd44-275efb9b9a8d\",\"type\":\"BoxZoomTool\"}],\"root_ids\":[\"2a3eebad-2b60-44df-bab6-379f1c654791\"]},\"title\":\"Bokeh Application\",\"version\":\"0.12.2\"}};\n",
       "            var render_items = [{\"docid\":\"5a2ed998-bed4-4d94-aaeb-d3b48f31cad6\",\"elementid\":\"efa7eaf1-fae5-4942-8669-8901d8aea37c\",\"modelid\":\"2a3eebad-2b60-44df-bab6-379f1c654791\",\"notebook_comms_target\":\"7c2d1840-99ba-47b9-a172-949cbd75211a\"}];\n",
       "            \n",
       "            Bokeh.embed.embed_items(docs_json, render_items);\n",
       "        });\n",
       "      },\n",
       "      function(Bokeh) {\n",
       "      }\n",
       "    ];\n",
       "  \n",
       "    function run_inline_js() {\n",
       "      \n",
       "      if ((window.Bokeh !== undefined) || (force === \"1\")) {\n",
       "        for (var i = 0; i < inline_js.length; i++) {\n",
       "          inline_js[i](window.Bokeh);\n",
       "        }if (force === \"1\") {\n",
       "          display_loaded();\n",
       "        }} else if (Date.now() < window._bokeh_timeout) {\n",
       "        setTimeout(run_inline_js, 100);\n",
       "      } else if (!window._bokeh_failed_load) {\n",
       "        console.log(\"Bokeh: BokehJS failed to load within specified timeout.\");\n",
       "        window._bokeh_failed_load = true;\n",
       "      } else if (!force) {\n",
       "        var cell = $(\"#efa7eaf1-fae5-4942-8669-8901d8aea37c\").parents('.cell').data().cell;\n",
       "        cell.output_area.append_execute_result(NB_LOAD_WARNING)\n",
       "      }\n",
       "  \n",
       "    }\n",
       "  \n",
       "    if (window._bokeh_is_loading === 0) {\n",
       "      console.log(\"Bokeh: BokehJS loaded, going straight to plotting\");\n",
       "      run_inline_js();\n",
       "    } else {\n",
       "      load_libs(js_urls, function() {\n",
       "        console.log(\"Bokeh: BokehJS plotting callback run at\", now());\n",
       "        run_inline_js();\n",
       "      });\n",
       "    }\n",
       "  }(this));\n",
       "</script>"
      ]
     },
     "metadata": {},
     "output_type": "display_data"
    }
   ],
   "source": [
    "# notebook_handle=True をつけることで、あとで書き換えられる\n",
    "t = show(p, notebook_handle=True)"
   ]
  },
  {
   "cell_type": "code",
   "execution_count": 7,
   "metadata": {
    "collapsed": false,
    "run_control": {
     "frozen": false,
     "read_only": false
    }
   },
   "outputs": [],
   "source": [
    "display(slider)"
   ]
  },
  {
   "cell_type": "code",
   "execution_count": 8,
   "metadata": {
    "collapsed": false,
    "run_control": {
     "frozen": false,
     "read_only": false
    }
   },
   "outputs": [],
   "source": [
    "# 1秒毎にアニメーション\n",
    "for x in df.index[:30]:\n",
    "    draw(x)\n",
    "    time.sleep(1)"
   ]
  },
  {
   "cell_type": "code",
   "execution_count": null,
   "metadata": {
    "collapsed": true,
    "run_control": {
     "frozen": false,
     "read_only": false
    }
   },
   "outputs": [],
   "source": []
  }
 ],
 "metadata": {
  "kernelspec": {
   "display_name": "Python 3",
   "language": "python",
   "name": "python3"
  },
  "language_info": {
   "codemirror_mode": {
    "name": "ipython",
    "version": 3
   },
   "file_extension": ".py",
   "mimetype": "text/x-python",
   "name": "python",
   "nbconvert_exporter": "python",
   "pygments_lexer": "ipython3",
   "version": "3.5.2"
  },
  "widgets": {
   "state": {
    "ac057bd1a0ac46f48f5715c40c7b88f7": {
     "views": [
      {
       "cell_index": 6
      }
     ]
    }
   },
   "version": "1.2.0"
  }
 },
 "nbformat": 4,
 "nbformat_minor": 1
}
